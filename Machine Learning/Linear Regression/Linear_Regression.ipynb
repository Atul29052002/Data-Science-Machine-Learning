{
 "cells": [
  {
   "cell_type": "markdown",
   "id": "4a617d82-1b29-4bc0-bb64-50c4d800ce01",
   "metadata": {},
   "source": [
    "<h1>Linear Regression</h1>"
   ]
  },
  {
   "cell_type": "code",
   "execution_count": 31,
   "id": "274c0d48-f4c5-4e96-990c-8fc2d2e3cda1",
   "metadata": {},
   "outputs": [],
   "source": [
    "import numpy as np #import numpy"
   ]
  },
  {
   "cell_type": "code",
   "execution_count": 33,
   "id": "3305ca1d-9f79-41c3-9190-729c380f0ad6",
   "metadata": {},
   "outputs": [],
   "source": [
    "data = np.loadtxt(r\"C:\\Users\\atulk\\Documents\\Study Matrial\\Data science and machince learning Jupiter Notebook\\Machine_Learning\\Datasets\\data.csv\" , delimiter=',')    \n",
    "#load data.csv dataset , delimiter means data separated by ','"
   ]
  },
  {
   "cell_type": "code",
   "execution_count": 35,
   "id": "413327c4-3ff8-4821-b0c9-4b66a2c5c8ea",
   "metadata": {},
   "outputs": [
    {
     "data": {
      "text/plain": [
       "(100, 2)"
      ]
     },
     "execution_count": 35,
     "metadata": {},
     "output_type": "execute_result"
    }
   ],
   "source": [
    "data.shape # shape of the dataset"
   ]
  },
  {
   "cell_type": "code",
   "execution_count": 37,
   "id": "b0f68a58-44b3-43e8-a9a1-37bd14272a08",
   "metadata": {},
   "outputs": [],
   "source": [
    "x = data[:,0].reshape(-1,1) #it will throw an error if its 1d array , its needs to be 2d array\n",
    "#all row of 1st column"
   ]
  },
  {
   "cell_type": "code",
   "execution_count": 41,
   "id": "fe91b9d1-2bd8-4676-9465-eeff51afbf8b",
   "metadata": {},
   "outputs": [],
   "source": [
    "y = data[:,1] #all row of 2nd column"
   ]
  },
  {
   "cell_type": "code",
   "execution_count": 14,
   "id": "25030541-cbf6-4b43-a799-f1657fa642ae",
   "metadata": {},
   "outputs": [
    {
     "data": {
      "text/plain": [
       "(100,)"
      ]
     },
     "execution_count": 14,
     "metadata": {},
     "output_type": "execute_result"
    }
   ],
   "source": [
    "x.shape\n",
    "y.shape"
   ]
  },
  {
   "cell_type": "code",
   "execution_count": 43,
   "id": "b685e04f-53dd-486b-9bd0-4d7140eca47d",
   "metadata": {},
   "outputs": [],
   "source": [
    "from sklearn import model_selection    #spilt the dataset for training and testing\n",
    "x_train, x_test , y_train, y_test = model_selection.train_test_split(x,y)"
   ]
  },
  {
   "cell_type": "code",
   "execution_count": 45,
   "id": "8ae0d295-8cd4-4bc8-aae9-2b8d6cb6b337",
   "metadata": {},
   "outputs": [
    {
     "data": {
      "text/html": [
       "<style>#sk-container-id-2 {color: black;background-color: white;}#sk-container-id-2 pre{padding: 0;}#sk-container-id-2 div.sk-toggleable {background-color: white;}#sk-container-id-2 label.sk-toggleable__label {cursor: pointer;display: block;width: 100%;margin-bottom: 0;padding: 0.3em;box-sizing: border-box;text-align: center;}#sk-container-id-2 label.sk-toggleable__label-arrow:before {content: \"▸\";float: left;margin-right: 0.25em;color: #696969;}#sk-container-id-2 label.sk-toggleable__label-arrow:hover:before {color: black;}#sk-container-id-2 div.sk-estimator:hover label.sk-toggleable__label-arrow:before {color: black;}#sk-container-id-2 div.sk-toggleable__content {max-height: 0;max-width: 0;overflow: hidden;text-align: left;background-color: #f0f8ff;}#sk-container-id-2 div.sk-toggleable__content pre {margin: 0.2em;color: black;border-radius: 0.25em;background-color: #f0f8ff;}#sk-container-id-2 input.sk-toggleable__control:checked~div.sk-toggleable__content {max-height: 200px;max-width: 100%;overflow: auto;}#sk-container-id-2 input.sk-toggleable__control:checked~label.sk-toggleable__label-arrow:before {content: \"▾\";}#sk-container-id-2 div.sk-estimator input.sk-toggleable__control:checked~label.sk-toggleable__label {background-color: #d4ebff;}#sk-container-id-2 div.sk-label input.sk-toggleable__control:checked~label.sk-toggleable__label {background-color: #d4ebff;}#sk-container-id-2 input.sk-hidden--visually {border: 0;clip: rect(1px 1px 1px 1px);clip: rect(1px, 1px, 1px, 1px);height: 1px;margin: -1px;overflow: hidden;padding: 0;position: absolute;width: 1px;}#sk-container-id-2 div.sk-estimator {font-family: monospace;background-color: #f0f8ff;border: 1px dotted black;border-radius: 0.25em;box-sizing: border-box;margin-bottom: 0.5em;}#sk-container-id-2 div.sk-estimator:hover {background-color: #d4ebff;}#sk-container-id-2 div.sk-parallel-item::after {content: \"\";width: 100%;border-bottom: 1px solid gray;flex-grow: 1;}#sk-container-id-2 div.sk-label:hover label.sk-toggleable__label {background-color: #d4ebff;}#sk-container-id-2 div.sk-serial::before {content: \"\";position: absolute;border-left: 1px solid gray;box-sizing: border-box;top: 0;bottom: 0;left: 50%;z-index: 0;}#sk-container-id-2 div.sk-serial {display: flex;flex-direction: column;align-items: center;background-color: white;padding-right: 0.2em;padding-left: 0.2em;position: relative;}#sk-container-id-2 div.sk-item {position: relative;z-index: 1;}#sk-container-id-2 div.sk-parallel {display: flex;align-items: stretch;justify-content: center;background-color: white;position: relative;}#sk-container-id-2 div.sk-item::before, #sk-container-id-2 div.sk-parallel-item::before {content: \"\";position: absolute;border-left: 1px solid gray;box-sizing: border-box;top: 0;bottom: 0;left: 50%;z-index: -1;}#sk-container-id-2 div.sk-parallel-item {display: flex;flex-direction: column;z-index: 1;position: relative;background-color: white;}#sk-container-id-2 div.sk-parallel-item:first-child::after {align-self: flex-end;width: 50%;}#sk-container-id-2 div.sk-parallel-item:last-child::after {align-self: flex-start;width: 50%;}#sk-container-id-2 div.sk-parallel-item:only-child::after {width: 0;}#sk-container-id-2 div.sk-dashed-wrapped {border: 1px dashed gray;margin: 0 0.4em 0.5em 0.4em;box-sizing: border-box;padding-bottom: 0.4em;background-color: white;}#sk-container-id-2 div.sk-label label {font-family: monospace;font-weight: bold;display: inline-block;line-height: 1.2em;}#sk-container-id-2 div.sk-label-container {text-align: center;}#sk-container-id-2 div.sk-container {/* jupyter's `normalize.less` sets `[hidden] { display: none; }` but bootstrap.min.css set `[hidden] { display: none !important; }` so we also need the `!important` here to be able to override the default hidden behavior on the sphinx rendered scikit-learn.org. See: https://github.com/scikit-learn/scikit-learn/issues/21755 */display: inline-block !important;position: relative;}#sk-container-id-2 div.sk-text-repr-fallback {display: none;}</style><div id=\"sk-container-id-2\" class=\"sk-top-container\"><div class=\"sk-text-repr-fallback\"><pre>LinearRegression()</pre><b>In a Jupyter environment, please rerun this cell to show the HTML representation or trust the notebook. <br />On GitHub, the HTML representation is unable to render, please try loading this page with nbviewer.org.</b></div><div class=\"sk-container\" hidden><div class=\"sk-item\"><div class=\"sk-estimator sk-toggleable\"><input class=\"sk-toggleable__control sk-hidden--visually\" id=\"sk-estimator-id-2\" type=\"checkbox\" checked><label for=\"sk-estimator-id-2\" class=\"sk-toggleable__label sk-toggleable__label-arrow\">LinearRegression</label><div class=\"sk-toggleable__content\"><pre>LinearRegression()</pre></div></div></div></div></div>"
      ],
      "text/plain": [
       "LinearRegression()"
      ]
     },
     "execution_count": 45,
     "metadata": {},
     "output_type": "execute_result"
    }
   ],
   "source": [
    "from sklearn.linear_model import LinearRegression #in-bulit linear Regression function in sklearn\n",
    "alg1 = LinearRegression()\n",
    "alg1.fit(x_train,y_train)"
   ]
  },
  {
   "cell_type": "code",
   "execution_count": 18,
   "id": "51d7c3bc-6bdf-4e63-8c5f-e02bc54fd505",
   "metadata": {},
   "outputs": [
    {
     "data": {
      "text/plain": [
       "array([1.07796698])"
      ]
     },
     "execution_count": 18,
     "metadata": {},
     "output_type": "execute_result"
    }
   ],
   "source": [
    "alg1.coef_"
   ]
  },
  {
   "cell_type": "code",
   "execution_count": 19,
   "id": "a57262fb-a0e7-4ddb-bad1-2b18b505f409",
   "metadata": {},
   "outputs": [
    {
     "data": {
      "text/plain": [
       "19.70364258396387"
      ]
     },
     "execution_count": 19,
     "metadata": {},
     "output_type": "execute_result"
    }
   ],
   "source": [
    "alg1.intercept_"
   ]
  },
  {
   "cell_type": "code",
   "execution_count": 20,
   "id": "02a3276e-c095-406e-8492-b1d99e4921b4",
   "metadata": {},
   "outputs": [],
   "source": [
    "import matplotlib.pyplot as plt"
   ]
  },
  {
   "cell_type": "code",
   "execution_count": 21,
   "id": "5997c124-3aa7-43c8-a2bb-a1621416019c",
   "metadata": {},
   "outputs": [
    {
     "data": {
      "image/png": "[encoded data removed]",
      "text/plain": [
       "<Figure size 640x480 with 1 Axes>"
      ]
     },
     "metadata": {},
     "output_type": "display_data"
    }
   ],
   "source": [
    "m = alg1.coef_\n",
    "c = alg1.intercept_\n",
    "\n",
    "x_line = np.arange(30,70,0.1)\n",
    "y_line = m * x_line + c\n",
    "\n",
    "plt.plot(x_line,y_line, 'r')\n",
    "train1d = x_train.reshape(75)\n",
    "plt.scatter(x_train,y_train)\n",
    "plt.show()"
   ]
  },
  {
   "cell_type": "code",
   "execution_count": 26,
   "id": "37bdbcee-b432-4077-8d16-1587c3374b01",
   "metadata": {},
   "outputs": [
    {
     "data": {
      "image/png": "[encoded data removed]",
      "text/plain": [
       "<Figure size 640x480 with 1 Axes>"
      ]
     },
     "metadata": {},
     "output_type": "display_data"
    }
   ],
   "source": [
    "m = alg1.coef_\n",
    "c = alg1.intercept_\n",
    "\n",
    "x_line = np.arange(30,70,0.1)\n",
    "y_line = m * x_line + c\n",
    "\n",
    "plt.plot(x_line,y_line, 'r')\n",
    "train1d = x_test.reshape(25)\n",
    "plt.scatter(x_test,y_test)\n",
    "plt.show()"
   ]
  },
  {
   "cell_type": "code",
   "execution_count": 51,
   "id": "7cf8ba71-b13c-4834-910f-c6585d51030b",
   "metadata": {},
   "outputs": [
    {
     "name": "stdout",
     "output_type": "stream",
     "text": [
      "0.6768564638865108\n",
      "0.5685463221591004\n"
     ]
    }
   ],
   "source": [
    "score_test = alg1.score(x_test,y_test)\n",
    "score_training = alg1.score(x_train,y_train)\n",
    "print(score_test)\n",
    "print(score_training)"
   ]
  },
  {
   "cell_type": "code",
   "execution_count": null,
   "id": "2b78d0a0-59c8-4c2c-8e1f-cb5bfd0c0aea",
   "metadata": {},
   "outputs": [],
   "source": []
  },
  {
   "cell_type": "markdown",
   "id": "63437229-b02e-4440-b32b-9306457956b4",
   "metadata": {},
   "source": [
    "<h1>Linear Regrssion by functions</h1>"
   ]
  },
  {
   "cell_type": "code",
   "execution_count": 98,
   "id": "bc31f233-93f5-4793-b58e-0cd4426a6094",
   "metadata": {},
   "outputs": [],
   "source": [
    "import numpy as np"
   ]
  },
  {
   "cell_type": "code",
   "execution_count": 100,
   "id": "638c61ab-2a4d-49f0-aa0a-a3ea6e66ecd4",
   "metadata": {},
   "outputs": [],
   "source": [
    "data = np.loadtxt(r\"C:\\Users\\atulk\\Documents\\Study Matrial\\Data science and machince learning Jupiter Notebook\\Machine_Learning\\Datasets\\data.csv\" , delimiter=',')    \n",
    "#load data.csv dataset , delimiter means data separated by ','"
   ]
  },
  {
   "cell_type": "code",
   "execution_count": 102,
   "id": "3fd96b22-a041-4fa9-b6d2-1f70c1ef81a3",
   "metadata": {},
   "outputs": [],
   "source": [
    "x = data[:,0]\n",
    "y = data[:,1]"
   ]
  },
  {
   "cell_type": "code",
   "execution_count": 104,
   "id": "0ec201b0-c62c-48ab-a74a-f9897c71e23f",
   "metadata": {},
   "outputs": [],
   "source": [
    "from sklearn import model_selection    #spilt the dataset for training and testing\n",
    "x_train, x_test , y_train, y_test = model_selection.train_test_split(x,y,test_size=0.3)"
   ]
  },
  {
   "cell_type": "code",
   "execution_count": 106,
   "id": "2b297b8f-4375-45f8-b8ac-fdb10c6e0e8b",
   "metadata": {},
   "outputs": [],
   "source": [
    "def fit(x_train,y_train):\n",
    "    \n",
    "    num = (x_train * y_train).mean() - x_train.mean() * y_train.mean()\n",
    "    den = (x_train**2).mean() - x_train.mean() * y_train.mean()\n",
    "\n",
    "    m = num/den\n",
    "    c = y_train.mean() - (m * x_train).mean()\n",
    "\n",
    "    return m , c"
   ]
  },
  {
   "cell_type": "code",
   "execution_count": 108,
   "id": "f6fc887d-fb35-4559-9fc0-065f7aa555d0",
   "metadata": {},
   "outputs": [],
   "source": [
    "def predict(x, m, c):\n",
    "    return m * x + c"
   ]
  },
  {
   "cell_type": "code",
   "execution_count": 110,
   "id": "3362ed26-3215-4a08-bc74-34206a04cb0a",
   "metadata": {},
   "outputs": [],
   "source": [
    "def score(y_truth, y_pred): \n",
    "    u = ((y_truth - y_pred)**2).sum()\n",
    "    v = ((y_truth - y_truth.mean())**2).sum()\n",
    "    return 1 - u/v"
   ]
  },
  {
   "cell_type": "code",
   "execution_count": 112,
   "id": "35bb6717-7c2e-487d-8d36-aecc07721dc4",
   "metadata": {},
   "outputs": [],
   "source": [
    "def cost (x, y, m , c):\n",
    "    return ((y - m * x - c)**2).mean()"
   ]
  },
  {
   "cell_type": "code",
   "execution_count": 114,
   "id": "d408b819-9567-420e-b9cc-cd9d1485cfe9",
   "metadata": {},
   "outputs": [
    {
     "name": "stdout",
     "output_type": "stream",
     "text": [
      "Test Score:  -0.3760303377254992\n",
      "Train Score: -0.10755851320259913\n",
      "M: -0.11579642315182088\n",
      "C: 80.54330118258787\n",
      "Cost on training data: 328.2199623948308\n"
     ]
    }
   ],
   "source": [
    "m, c = fit(x_train, y_train)\n",
    "# Test data\n",
    "y_test_pred = predict(x_test, m, c)\n",
    "print(\"Test Score: \",score(y_test, y_test_pred))\n",
    "\n",
    "# Train data\n",
    "y_train_pred = predict(x_train, m, c)\n",
    "print(\"Train Score:\", score(y_train, y_train_pred))\n",
    "print(\"M:\", m)\n",
    "print(\"C:\", c)\n",
    "print(\"Cost on training data:\", cost(x_train,y_train, m, c ))"
   ]
  },
  {
   "cell_type": "code",
   "execution_count": null,
   "id": "f39114df-0aa6-4e19-aad2-bc7dd579b0f1",
   "metadata": {},
   "outputs": [],
   "source": []
  }
 ],
 "metadata": {
  "kernelspec": {
   "display_name": "Python 3 (ipykernel)",
   "language": "python",
   "name": "python3"
  },
  "language_info": {
   "codemirror_mode": {
    "name": "ipython",
    "version": 3
   },
   "file_extension": ".py",
   "mimetype": "text/x-python",
   "name": "python",
   "nbconvert_exporter": "python",
   "pygments_lexer": "ipython3",
   "version": "3.11.7"
  }
 },
 "nbformat": 4,
 "nbformat_minor": 5
}
